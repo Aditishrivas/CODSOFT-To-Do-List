{
 "cells": [
  {
   "cell_type": "markdown",
   "id": "48d38078",
   "metadata": {},
   "source": [
    "# Import Modules"
   ]
  },
  {
   "cell_type": "code",
   "execution_count": 1,
   "id": "3b5d0237",
   "metadata": {},
   "outputs": [],
   "source": [
    "from tkinter import *\n",
    "from tkinter import messagebox"
   ]
  },
  {
   "cell_type": "markdown",
   "id": "93b81238",
   "metadata": {},
   "source": [
    "# newTask Function"
   ]
  },
  {
   "cell_type": "code",
   "execution_count": 2,
   "id": "0129ab1e",
   "metadata": {},
   "outputs": [],
   "source": [
    "def newTask():\n",
    "    task = my_entry.get()\n",
    "    if task != \"\":\n",
    "        lb.insert(END, task)\n",
    "        my_entry.delete(0,\"end\")\n",
    "    else:\n",
    "        messagebox.showwarning(\"warning\", \"Please enter some task.\")"
   ]
  },
  {
   "cell_type": "markdown",
   "id": "68d5762b",
   "metadata": {},
   "source": [
    "# deleteTask Function"
   ]
  },
  {
   "cell_type": "code",
   "execution_count": 3,
   "id": "e1cdb5da",
   "metadata": {},
   "outputs": [],
   "source": [
    "def deleteTask():\n",
    "    lb.delete(ANCHOR)"
   ]
  },
  {
   "cell_type": "markdown",
   "id": "f5e7f5f3",
   "metadata": {},
   "source": [
    "# Create andd Configure Window"
   ]
  },
  {
   "cell_type": "code",
   "execution_count": 4,
   "id": "42be267c",
   "metadata": {},
   "outputs": [
    {
     "data": {
      "text/plain": [
       "''"
      ]
     },
     "execution_count": 4,
     "metadata": {},
     "output_type": "execute_result"
    }
   ],
   "source": [
    "ws = Tk()\n",
    "ws.geometry('500x450+500+200')\n",
    "ws.title(\"TO-DO-LIST\")\n",
    "ws.config(bg='#223441')\n",
    "ws.resizable(width=False, height= False)"
   ]
  },
  {
   "cell_type": "markdown",
   "id": "2d25fc33",
   "metadata": {},
   "source": [
    "# Creating a Frame"
   ]
  },
  {
   "cell_type": "code",
   "execution_count": 5,
   "id": "781fc6bc",
   "metadata": {},
   "outputs": [],
   "source": [
    "frame = Frame(ws)\n",
    "frame.pack(pady=10)"
   ]
  },
  {
   "cell_type": "markdown",
   "id": "42965abd",
   "metadata": {},
   "source": [
    "# Adding Listbox"
   ]
  },
  {
   "cell_type": "code",
   "execution_count": 6,
   "id": "d8395fbe",
   "metadata": {},
   "outputs": [],
   "source": [
    "lb = Listbox(frame, width=25, height=8, font=('Times',18), bd=0, fg='#464646',\n",
    "            highlightthickness=0, selectbackground='#a6a6a6', activestyle='none',)\n",
    "lb.pack(side = LEFT, fill= BOTH)"
   ]
  },
  {
   "cell_type": "markdown",
   "id": "06df4b3a",
   "metadata": {},
   "source": [
    "# Adding data"
   ]
  },
  {
   "cell_type": "code",
   "execution_count": 7,
   "id": "e52b0a40",
   "metadata": {},
   "outputs": [],
   "source": [
    "task_list = []\n",
    "for item in task_list:\n",
    "    lb.insert(END, item)"
   ]
  },
  {
   "cell_type": "markdown",
   "id": "3f21e963",
   "metadata": {},
   "source": [
    "# Adding Scrollbar"
   ]
  },
  {
   "cell_type": "code",
   "execution_count": 8,
   "id": "8620a87b",
   "metadata": {},
   "outputs": [],
   "source": [
    "sb = Scrollbar(frame)\n",
    "sb.pack(side=RIGHT, fill = BOTH)\n",
    "\n",
    "lb.config(yscrollcommand = sb.set)\n",
    "sb.config(command = lb.yview)"
   ]
  },
  {
   "cell_type": "markdown",
   "id": "1242a3b7",
   "metadata": {},
   "source": [
    "# Adding Entry Box"
   ]
  },
  {
   "cell_type": "code",
   "execution_count": 9,
   "id": "e29f76be",
   "metadata": {},
   "outputs": [],
   "source": [
    "my_entry = Entry(ws, font= ('times',24))\n",
    "my_entry.pack(pady=20)"
   ]
  },
  {
   "cell_type": "markdown",
   "id": "5a7ad0a6",
   "metadata": {},
   "source": [
    "# Adding Another Frame for Buttons"
   ]
  },
  {
   "cell_type": "code",
   "execution_count": 10,
   "id": "224249cf",
   "metadata": {},
   "outputs": [],
   "source": [
    "button_frame = Frame(ws)\n",
    "button_frame.pack(pady=20)"
   ]
  },
  {
   "cell_type": "markdown",
   "id": "879393f7",
   "metadata": {},
   "source": [
    "# Adding Buttons"
   ]
  },
  {
   "cell_type": "code",
   "execution_count": 11,
   "id": "c5fbcdd9",
   "metadata": {},
   "outputs": [],
   "source": [
    "addTask_btn = Button(button_frame, text=\"Add Task\", font=('times 14'),\n",
    "                    bg='#c5f776', padx= 20, pady = 10, command = newTask)\n",
    "addTask_btn.pack(fill= BOTH, expand = True, side = LEFT)\n",
    "\n",
    "delTask_btn = Button(button_frame, text = \"Delete Task\", font=('times 14'),\n",
    "                    bg='#ff8b61', padx = 20, pady = 10, command= deleteTask)\n",
    "delTask_btn.pack(fill=BOTH, expand= True, side= LEFT)"
   ]
  },
  {
   "cell_type": "markdown",
   "id": "fd21c675",
   "metadata": {},
   "source": [
    "# Final Loop"
   ]
  },
  {
   "cell_type": "code",
   "execution_count": 12,
   "id": "f20b7522",
   "metadata": {},
   "outputs": [],
   "source": [
    "ws.mainloop()"
   ]
  }
 ],
 "metadata": {
  "kernelspec": {
   "display_name": "Python 3 (ipykernel)",
   "language": "python",
   "name": "python3"
  },
  "language_info": {
   "codemirror_mode": {
    "name": "ipython",
    "version": 3
   },
   "file_extension": ".py",
   "mimetype": "text/x-python",
   "name": "python",
   "nbconvert_exporter": "python",
   "pygments_lexer": "ipython3",
   "version": "3.10.9"
  }
 },
 "nbformat": 4,
 "nbformat_minor": 5
}
